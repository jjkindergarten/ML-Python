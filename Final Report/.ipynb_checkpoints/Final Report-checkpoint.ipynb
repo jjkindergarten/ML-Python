{
 "cells": [
  {
   "cell_type": "code",
   "execution_count": 1,
   "metadata": {},
   "outputs": [],
   "source": [
    "import os\n",
    "from rbm import RBM\n",
    "from au import AutoEncoder\n",
    "import tensorflow as tf\n",
    "import input_data\n",
    "from utilsnn import show_image, min_max_scale\n",
    "import matplotlib.pyplot as plt\n",
    "import numpy as np"
   ]
  },
  {
   "cell_type": "markdown",
   "metadata": {},
   "source": [
    "# pretrain autoencoder"
   ]
  },
  {
   "cell_type": "code",
   "execution_count": 2,
   "metadata": {},
   "outputs": [],
   "source": [
    "flags = tf.app.flags\n",
    "FLAGS = flags.FLAGS\n",
    "flags.DEFINE_string('data_dir', '/tmp/data/', 'Directory for storing data')\n",
    "flags.DEFINE_integer('epochs', 50, 'The number of training epochs')\n",
    "flags.DEFINE_integer('batchsize', 50, 'The batch size')\n",
    "flags.DEFINE_boolean('restore_rbm', False, 'Whether to restore the RBM weights or not.')"
   ]
  },
  {
   "cell_type": "code",
   "execution_count": 3,
   "metadata": {},
   "outputs": [],
   "source": [
    "# ensure output dir exists\n",
    "if not os.path.isdir('out'):\n",
    "  os.mkdir('out')"
   ]
  },
  {
   "cell_type": "code",
   "execution_count": 4,
   "metadata": {},
   "outputs": [
    {
     "name": "stdout",
     "output_type": "stream",
     "text": [
      "Extracting /tmp/data/train-images-idx3-ubyte.gz\n",
      "Extracting /tmp/data/train-labels-idx1-ubyte.gz\n",
      "Extracting /tmp/data/t10k-images-idx3-ubyte.gz\n",
      "Extracting /tmp/data/t10k-labels-idx1-ubyte.gz\n"
     ]
    }
   ],
   "source": [
    "from tensorflow.examples.tutorials.mnist import input_data\n",
    "mnist = input_data.read_data_sets(\"/tmp/data/\")"
   ]
  },
  {
   "cell_type": "code",
   "execution_count": 5,
   "metadata": {},
   "outputs": [],
   "source": [
    "X_train = mnist.train.images\n",
    "y_train = mnist.train.labels\n",
    "\n",
    "X_test = mnist.test.images\n",
    "y_test = mnist.test.labels"
   ]
  },
  {
   "cell_type": "code",
   "execution_count": 7,
   "metadata": {},
   "outputs": [],
   "source": [
    "# RBMs\n",
    "rbmobject1 = RBM(784, 1000, ['rbmw1', 'rbvb1', 'rbmhb1'], 0.3)\n",
    "rbmobject2 = RBM(1000, 500, ['rbmw2', 'rbvb2', 'rbmhb2'], 0.3)\n",
    "rbmobject3 = RBM(500, 250, ['rbmw3', 'rbvb3', 'rbmhb3'], 0.3)\n",
    "rbmobject4 = RBM(250, 2,   ['rbmw4', 'rbvb4', 'rbmhb4'], 0.3)"
   ]
  },
  {
   "cell_type": "code",
   "execution_count": 8,
   "metadata": {},
   "outputs": [],
   "source": [
    "if FLAGS.restore_rbm:\n",
    "  rbmobject1.restore_weights('./out/rbmw1.chp')\n",
    "  rbmobject2.restore_weights('./out/rbmw2.chp')\n",
    "  rbmobject3.restore_weights('./out/rbmw3.chp')\n",
    "  rbmobject4.restore_weights('./out/rbmw4.chp')"
   ]
  },
  {
   "cell_type": "code",
   "execution_count": 9,
   "metadata": {},
   "outputs": [],
   "source": [
    "# Autoencoder\n",
    "autoencoder = AutoEncoder(784, [1000, 500, 250, 2], [['rbmw1', 'rbmhb1'],\n",
    "                                                    ['rbmw2', 'rbmhb2'],\n",
    "                                                    ['rbmw3', 'rbmhb3'],\n",
    "                                                    ['rbmw4', 'rbmhb4']], tied_weights=False)\n",
    "\n"
   ]
  },
  {
   "cell_type": "code",
   "execution_count": 10,
   "metadata": {},
   "outputs": [],
   "source": [
    "iterations = len(X_train) / FLAGS.batchsize"
   ]
  },
  {
   "cell_type": "code",
   "execution_count": 11,
   "metadata": {},
   "outputs": [
    {
     "name": "stdout",
     "output_type": "stream",
     "text": [
      "first rbm\n",
      "0.00760086\n",
      "0.00612478\n",
      "0.00551511\n",
      "0.00527266\n",
      "0.00565015\n",
      "0.00512968\n",
      "0.00502606\n",
      "0.00510087\n",
      "0.00495688\n",
      "0.00464762\n",
      "0.00475787\n",
      "0.00479798\n",
      "0.0047684\n",
      "0.00446861\n",
      "0.00473368\n",
      "0.00473135\n",
      "0.00453782\n",
      "0.00458474\n",
      "0.0044698\n",
      "0.00438953\n",
      "0.00440457\n",
      "0.00433099\n",
      "0.00449285\n",
      "0.00449064\n",
      "0.00450998\n",
      "0.00437204\n",
      "0.00467398\n",
      "0.00450071\n",
      "0.0043804\n",
      "0.00464309\n",
      "0.00439479\n",
      "0.00444612\n",
      "0.00432972\n",
      "0.00442706\n",
      "0.00447903\n",
      "0.00433778\n",
      "0.00438102\n",
      "0.00431425\n",
      "0.00440221\n",
      "0.00434687\n",
      "0.00450296\n",
      "0.00422762\n",
      "0.00424078\n",
      "0.0042049\n",
      "0.00440901\n",
      "0.00428497\n",
      "0.00424027\n",
      "0.0042959\n",
      "0.00424531\n",
      "0.00437239\n",
      "second rbm\n",
      "0.0103913\n",
      "0.00812862\n",
      "0.00719167\n",
      "0.00618555\n",
      "0.00561378\n",
      "0.00533478\n",
      "0.00480375\n",
      "0.00468107\n",
      "0.00440753\n",
      "0.00416541\n",
      "0.00409605\n",
      "0.00380362\n",
      "0.00377545\n",
      "0.00389916\n",
      "0.00362406\n",
      "0.00362256\n",
      "0.00350375\n",
      "0.00337738\n",
      "0.00330871\n",
      "0.00333728\n",
      "0.00325989\n",
      "0.00319725\n",
      "0.00308406\n",
      "0.00304532\n",
      "0.00301314\n",
      "0.00301752\n",
      "0.00291232\n",
      "0.00287837\n",
      "0.00284445\n",
      "0.00280328\n",
      "0.00278771\n",
      "0.00273042\n",
      "0.00276065\n",
      "0.00274068\n",
      "0.00259847\n",
      "0.0026488\n",
      "0.0026491\n",
      "0.0026004\n",
      "0.00256566\n",
      "0.00260406\n",
      "0.00258125\n",
      "0.0025017\n",
      "0.00252777\n",
      "0.00245514\n",
      "0.00247641\n",
      "0.00245957\n",
      "0.00247704\n",
      "0.00249643\n",
      "0.0024134\n",
      "0.00245155\n",
      "third rbm\n",
      "0.00506999\n",
      "0.00395422\n",
      "0.00349613\n",
      "0.00327516\n",
      "0.00307078\n",
      "0.00315584\n",
      "0.00297225\n",
      "0.0030081\n",
      "0.00289015\n",
      "0.00296217\n",
      "0.00278089\n",
      "0.00271121\n",
      "0.00280526\n",
      "0.00269544\n",
      "0.00280537\n",
      "0.0028174\n",
      "0.00277337\n",
      "0.00282015\n",
      "0.00277014\n",
      "0.00271939\n",
      "0.0026006\n",
      "0.00268281\n",
      "0.00269117\n",
      "0.00271215\n",
      "0.00266401\n",
      "0.00253278\n",
      "0.00273771\n",
      "0.00264329\n",
      "0.0025649\n",
      "0.00253878\n",
      "0.00257561\n",
      "0.00257804\n",
      "0.00264814\n",
      "0.00264265\n",
      "0.0026255\n",
      "0.00253012\n",
      "0.00263801\n",
      "0.00260336\n",
      "0.00254152\n",
      "0.00260546\n",
      "0.00258722\n",
      "0.00255116\n",
      "0.00257248\n",
      "0.00250186\n",
      "0.00256524\n",
      "0.00252297\n",
      "0.00256392\n",
      "0.00249975\n",
      "0.00247518\n",
      "0.00253072\n"
     ]
    }
   ],
   "source": [
    "# Train First RBM\n",
    "print('first rbm')\n",
    "for i in range(FLAGS.epochs):\n",
    "  for j in range(iterations):\n",
    "    batch_xs, batch_ys = mnist.train.next_batch(FLAGS.batchsize)\n",
    "    rbmobject1.partial_fit(batch_xs)\n",
    "  print(rbmobject1.compute_cost(X_train))\n",
    "  show_image(\"out/1rbm.jpg\", rbmobject1.n_w, (28, 28), (25, 40))\n",
    "rbmobject1.save_weights('./out/rbmw1.chp')\n",
    "\n",
    "# Train Second RBM2\n",
    "print('second rbm')\n",
    "for i in range(FLAGS.epochs):\n",
    "  for j in range(iterations):\n",
    "    batch_xs, batch_ys = mnist.train.next_batch(FLAGS.batchsize)\n",
    "    # Transform features with first rbm for second rbm\n",
    "    batch_xs = rbmobject1.transform(batch_xs)\n",
    "    rbmobject2.partial_fit(batch_xs)\n",
    "  print(rbmobject2.compute_cost(rbmobject1.transform(X_train)))\n",
    "  show_image(\"out/2rbm.jpg\", rbmobject2.n_w, (25, 40), (25, 20))\n",
    "rbmobject2.save_weights('./out/rbmw2.chp')\n",
    "\n",
    "# Train Third RBM\n",
    "print('third rbm')\n",
    "for i in range(FLAGS.epochs):\n",
    "  for j in range(iterations):\n",
    "    # Transform features\n",
    "    batch_xs, batch_ys = mnist.train.next_batch(FLAGS.batchsize)\n",
    "    batch_xs = rbmobject1.transform(batch_xs)\n",
    "    batch_xs = rbmobject2.transform(batch_xs)\n",
    "    rbmobject3.partial_fit(batch_xs)\n",
    "  print(rbmobject3.compute_cost(rbmobject2.transform(rbmobject1.transform(X_train))))\n",
    "  show_image(\"out/3rbm.jpg\", rbmobject3.n_w, (25, 20), (25, 10))\n",
    "rbmobject3.save_weights('./out/rbmw3.chp')"
   ]
  },
  {
   "cell_type": "code",
   "execution_count": 12,
   "metadata": {},
   "outputs": [
    {
     "name": "stdout",
     "output_type": "stream",
     "text": [
      "fourth rbm\n",
      "0.103331\n",
      "0.103172\n",
      "0.102796\n",
      "0.101223\n",
      "0.100256\n",
      "0.0999822\n",
      "0.100023\n",
      "0.100004\n",
      "0.100079\n",
      "0.100042\n",
      "0.0999784\n",
      "0.0999853\n",
      "0.100001\n",
      "0.100004\n",
      "0.100063\n",
      "0.0999888\n",
      "0.100032\n",
      "0.0999782\n",
      "0.099996\n",
      "0.100018\n",
      "0.100067\n",
      "0.100015\n",
      "0.100029\n",
      "0.0999855\n",
      "0.0999568\n",
      "0.100006\n",
      "0.100022\n",
      "0.0999519\n",
      "0.0999842\n",
      "0.100002\n",
      "0.100025\n",
      "0.0999539\n",
      "0.0999802\n",
      "0.0999752\n",
      "0.0999987\n",
      "0.0999468\n",
      "0.0999517\n",
      "0.0999542\n",
      "0.0999917\n",
      "0.0999611\n",
      "0.0999712\n",
      "0.100052\n",
      "0.099969\n",
      "0.0999954\n",
      "0.0999819\n",
      "0.100002\n",
      "0.100009\n",
      "0.0999044\n",
      "0.0999855\n",
      "0.0999715\n"
     ]
    }
   ],
   "source": [
    "# Train Forth RBM\n",
    "print('fourth rbm')\n",
    "for i in range(FLAGS.epochs):\n",
    "  for j in range(iterations):\n",
    "    batch_xs, batch_ys = mnist.train.next_batch(FLAGS.batchsize)\n",
    "    # Transform features\n",
    "    batch_xs = rbmobject1.transform(batch_xs)\n",
    "    batch_xs = rbmobject2.transform(batch_xs)\n",
    "    batch_xs = rbmobject3.transform(batch_xs)\n",
    "    rbmobject4.partial_fit(batch_xs)\n",
    "  print(rbmobject4.compute_cost(rbmobject3.transform(rbmobject2.transform(rbmobject1.transform(X_train)))))\n",
    "rbmobject4.save_weights('./out/rbmw4.chp')"
   ]
  },
  {
   "cell_type": "code",
   "execution_count": 13,
   "metadata": {},
   "outputs": [
    {
     "name": "stdout",
     "output_type": "stream",
     "text": [
      "INFO:tensorflow:Restoring parameters from ./out/rbmw1.chp\n",
      "INFO:tensorflow:Restoring parameters from ./out/rbmw2.chp\n",
      "INFO:tensorflow:Restoring parameters from ./out/rbmw3.chp\n",
      "INFO:tensorflow:Restoring parameters from ./out/rbmw4.chp\n"
     ]
    }
   ],
   "source": [
    "# Load RBM weights to Autoencoder\n",
    "autoencoder.load_rbm_weights('./out/rbmw1.chp', ['rbmw1', 'rbmhb1'], 0)\n",
    "autoencoder.load_rbm_weights('./out/rbmw2.chp', ['rbmw2', 'rbmhb2'], 1)\n",
    "autoencoder.load_rbm_weights('./out/rbmw3.chp', ['rbmw3', 'rbmhb3'], 2)\n",
    "autoencoder.load_rbm_weights('./out/rbmw4.chp', ['rbmw4', 'rbmhb4'], 3)"
   ]
  },
  {
   "cell_type": "code",
   "execution_count": 16,
   "metadata": {},
   "outputs": [
    {
     "name": "stdout",
     "output_type": "stream",
     "text": [
      "autoencoder\n",
      "204.546413183\n",
      "204.097182721\n",
      "203.660800606\n",
      "203.072355419\n",
      "202.831046388\n",
      "202.329114303\n",
      "201.928795338\n",
      "202.00885734\n",
      "201.450487614\n",
      "201.253253505\n",
      "201.16327627\n",
      "200.603113666\n",
      "200.358449399\n",
      "200.250873655\n",
      "200.257291839\n",
      "199.487993672\n",
      "199.065401241\n",
      "199.030999333\n",
      "199.127317086\n",
      "198.197997972\n",
      "198.449987039\n",
      "197.803887531\n",
      "197.77387248\n",
      "197.723054275\n",
      "197.363504753\n",
      "197.399614304\n",
      "196.965770245\n",
      "196.924275681\n",
      "196.510053128\n",
      "197.213314012\n",
      "196.7324\n",
      "196.214274973\n",
      "195.912052393\n",
      "196.111919075\n",
      "195.774644911\n",
      "195.916445181\n",
      "195.656900853\n",
      "195.473510385\n",
      "195.679076299\n",
      "194.947405353\n",
      "194.983888328\n",
      "194.648424432\n",
      "194.656304672\n",
      "194.31428498\n",
      "194.014829487\n",
      "194.738110498\n",
      "193.844616115\n",
      "193.988240749\n",
      "193.708234131\n",
      "193.594094068\n",
      "193.538587868\n",
      "193.161104277\n",
      "193.072651535\n",
      "193.365380615\n",
      "192.827129096\n",
      "192.834783807\n",
      "193.030547813\n",
      "192.677878723\n",
      "192.712956905\n",
      "192.617216215\n",
      "192.263971955\n",
      "191.89838922\n",
      "192.018766433\n",
      "191.757948369\n",
      "192.094710514\n",
      "191.650801077\n",
      "191.680443794\n",
      "191.395135999\n",
      "191.398553342\n",
      "191.401245177\n",
      "191.796772286\n",
      "190.975699559\n",
      "191.178791523\n",
      "190.985923171\n",
      "190.752082184\n",
      "190.785398453\n",
      "190.848821327\n",
      "190.618816495\n",
      "190.39970772\n",
      "190.517930552\n"
     ]
    }
   ],
   "source": [
    "# Train Autoencoder\n",
    "print('autoencoder')\n",
    "\n",
    "max_checks_without_progress = 10\n",
    "checks_without_progress = 0\n",
    "best_loss = np.infty\n",
    "\n",
    "\n",
    "for i in range(80):\n",
    "    loss = 0.0\n",
    "    for j in range(iterations):\n",
    "        batch_xs, batch_ys = mnist.train.next_batch(FLAGS.batchsize)\n",
    "        loss += autoencoder.partial_fit(batch_xs)\n",
    "    print(loss)\n",
    "    #try to introduce early stopping here\n",
    "    if loss < best_loss:\n",
    "        best_loss = loss\n",
    "        checks_without_progress = 0\n",
    "        autoencoder.save_weights('./out/au.chp')\n",
    "    else:\n",
    "        checks_without_progress += 1\n",
    "    if checks_without_progress > max_checks_without_progress:\n",
    "        print(\"Early stopping!\")\n",
    "        break"
   ]
  },
  {
   "cell_type": "markdown",
   "metadata": {},
   "source": [
    "# without pretrain autocoder"
   ]
  },
  {
   "cell_type": "markdown",
   "metadata": {},
   "source": [
    "here i refer to the coding in the textbook."
   ]
  },
  {
   "cell_type": "code",
   "execution_count": 25,
   "metadata": {},
   "outputs": [],
   "source": [
    "from functools import partial\n",
    "\n",
    "n_inputs = 28 * 28\n",
    "n_hidden1 = 1000\n",
    "n_hidden2 = 500  \n",
    "n_hidden3 = 250\n",
    "n_hidden4 = 2 # encoder\n",
    "n_hidden5 = n_hidden3\n",
    "n_hidden6 = n_hidden2\n",
    "n_outputs = n_inputs\n",
    "\n",
    "learning_rate = 0.01\n",
    "l2_reg = 0.0001\n",
    "\n",
    "X = tf.placeholder(tf.float32, shape=[None, n_inputs])\n",
    "\n",
    "he_init = tf.contrib.layers.variance_scaling_initializer() # He initialization\n",
    "#Equivalent to:\n",
    "#he_init = lambda shape, dtype=tf.float32: tf.truncated_normal(shape, 0., stddev=np.sqrt(2/shape[0]))\n",
    "l2_regularizer = tf.contrib.layers.l2_regularizer(l2_reg)\n",
    "my_dense_layer = partial(tf.layers.dense,\n",
    "                         activation=tf.nn.elu,\n",
    "                         kernel_initializer=he_init,\n",
    "                         kernel_regularizer=l2_regularizer)\n",
    "\n",
    "hidden1 = my_dense_layer(X, n_hidden1)\n",
    "hidden2 = my_dense_layer(hidden1, n_hidden2)\n",
    "hidden3 = my_dense_layer(hidden2, n_hidden3)\n",
    "hidden4 = my_dense_layer(hidden3, n_hidden4)\n",
    "hidden5 = my_dense_layer(hidden4, n_hidden5)\n",
    "hidden6 = my_dense_layer(hidden5, n_hidden6)\n",
    "outputs = my_dense_layer(hidden6, n_outputs, activation=None)\n",
    "\n",
    "reconstruction_loss = tf.reduce_mean(tf.square(outputs - X))\n",
    "\n",
    "reg_losses = tf.get_collection(tf.GraphKeys.REGULARIZATION_LOSSES)\n",
    "loss = tf.add_n([reconstruction_loss] + reg_losses)\n",
    "\n",
    "optimizer = tf.train.AdamOptimizer(learning_rate)\n",
    "training_op = optimizer.minimize(loss)\n",
    "\n",
    "init = tf.global_variables_initializer()\n",
    "saver = tf.train.Saver() # not shown in the book"
   ]
  },
  {
   "cell_type": "code",
   "execution_count": 26,
   "metadata": {},
   "outputs": [
    {
     "name": "stdout",
     "output_type": "stream",
     "text": [
      "(0, 'Train MSE:', 0.068944417)\n",
      "(1, 'Train MSE:', 0.068739899)\n",
      "(2, 'Train MSE:', 0.068443485)\n",
      "(3, 'Train MSE:', 0.068757817)\n",
      "(4, 'Train MSE:', 0.066238903)\n",
      "(5, 'Train MSE:', 0.068236195)\n",
      "(6, 'Train MSE:', 0.050711628)\n",
      "(7, 'Train MSE:', 0.048090778)\n",
      "(8, 'Train MSE:', 0.051448714)\n",
      "(9, 'Train MSE:', 0.04793103)\n",
      "(10, 'Train MSE:', 0.048304632)\n",
      "(11, 'Train MSE:', 0.051503733)\n",
      "(12, 'Train MSE:', 0.046866275)\n",
      "(13, 'Train MSE:', 0.044666529)\n",
      "(14, 'Train MSE:', 0.047272868)\n",
      "(15, 'Train MSE:', 0.068811387)\n",
      "(16, 'Train MSE:', 0.069197014)\n",
      "(17, 'Train MSE:', 0.072480328)\n",
      "(18, 'Train MSE:', 0.0703962)\n",
      "(19, 'Train MSE:', 0.066832609)\n",
      "(20, 'Train MSE:', 0.064743452)\n",
      "(21, 'Train MSE:', 0.069524109)\n",
      "(22, 'Train MSE:', 0.070008114)\n",
      "(23, 'Train MSE:', 0.067378387)\n",
      "(24, 'Train MSE:', 0.069256358)\n",
      "Early stopping!\n"
     ]
    }
   ],
   "source": [
    "import sys\n",
    "n_epochs = 80\n",
    "batch_size = 100\n",
    "\n",
    "max_checks_without_progress = 10\n",
    "checks_without_progress = 0\n",
    "best_loss = np.infty\n",
    "\n",
    "with tf.Session() as sess:\n",
    "    init.run()\n",
    "    for epoch in range(n_epochs):\n",
    "        n_batches = mnist.train.num_examples // batch_size\n",
    "        for iteration in range(n_batches):\n",
    "            sys.stdout.flush()                                          \n",
    "            X_batch, y_batch = mnist.train.next_batch(batch_size)\n",
    "            sess.run(training_op, feed_dict={X: X_batch})\n",
    "        loss_train = reconstruction_loss.eval(feed_dict={X: X_batch})  \n",
    "        print(epoch, \"Train MSE:\", loss_train)    \n",
    "        if loss_train < best_loss:\n",
    "            save_path = saver.save(sess, \"./my_model_all_layers.ckpt\")\n",
    "            best_loss = loss_train\n",
    "            checks_without_progress = 0\n",
    "        else:\n",
    "            checks_without_progress += 1\n",
    "        if checks_without_progress > max_checks_without_progress:\n",
    "            print(\"Early stopping!\")\n",
    "            break            "
   ]
  },
  {
   "cell_type": "markdown",
   "metadata": {},
   "source": [
    "# simple PCA"
   ]
  },
  {
   "cell_type": "code",
   "execution_count": 22,
   "metadata": {},
   "outputs": [],
   "source": [
    "#simple PCA\n",
    "from sklearn.decomposition import PCA\n",
    "pca = PCA(n_components=2)\n",
    "pca.fit(X_train)\n",
    "X_test_pca = pca.transform(X_test)\n",
    "X_test_pca_re = pca.inverse_transform(X_test_pca)"
   ]
  },
  {
   "cell_type": "code",
   "execution_count": 23,
   "metadata": {},
   "outputs": [],
   "source": [
    "#incremental PCA\n",
    "from sklearn.decomposition import IncrementalPCA\n",
    "Ipca = IncrementalPCA(n_components=2)\n",
    "Ipca.fit(X_train)\n",
    "X_test_pca_I = Ipca.transform(X_test)\n",
    "X_test_pca_re_I = Ipca.inverse_transform(X_test_pca)"
   ]
  },
  {
   "cell_type": "markdown",
   "metadata": {},
   "source": [
    "# comparasion"
   ]
  },
  {
   "cell_type": "code",
   "execution_count": 27,
   "metadata": {},
   "outputs": [
    {
     "name": "stdout",
     "output_type": "stream",
     "text": [
      "INFO:tensorflow:Restoring parameters from ./my_model_all_layers.ckpt\n"
     ]
    }
   ],
   "source": [
    "with tf.Session() as sess:\n",
    "        saver.restore(sess, \"./my_model_all_layers.ckpt\")\n",
    "        outputs_val = outputs.eval(feed_dict={X: X_test})"
   ]
  },
  {
   "cell_type": "code",
   "execution_count": 47,
   "metadata": {},
   "outputs": [
    {
     "name": "stdout",
     "output_type": "stream",
     "text": [
      "INFO:tensorflow:Restoring parameters from ./out/au.chp\n"
     ]
    }
   ],
   "source": [
    "autoencoder.load_weights('./out/au.chp')\n",
    "re_X_test = autoencoder.reconstruct(X_test)"
   ]
  },
  {
   "cell_type": "code",
   "execution_count": 19,
   "metadata": {},
   "outputs": [],
   "source": [
    "def plot_image(image, shape=[28, 28]):\n",
    "    plt.imshow(image.reshape(shape), cmap=\"Greys\", interpolation=\"nearest\")\n",
    "    plt.axis(\"off\")"
   ]
  },
  {
   "cell_type": "code",
   "execution_count": 59,
   "metadata": {},
   "outputs": [
    {
     "data": {
      "image/png": "[encoded data removed]",
      "text/plain": [
       "<matplotlib.figure.Figure at 0x1a259bac90>"
      ]
     },
     "metadata": {},
     "output_type": "display_data"
    }
   ],
   "source": [
    "n_test_digits = 10\n",
    "fig = plt.figure(figsize=(10, 12))\n",
    "for digit_index in range(n_test_digits):\n",
    "    plt.subplot(5, n_test_digits, (digit_index+1))\n",
    "    plot_image(X_test[digit_index])\n",
    "    plt.subplot(5, n_test_digits, (digit_index+11))\n",
    "    plot_image(re_X_test[digit_index])\n",
    "    plt.subplot(5, n_test_digits, (digit_index+21))\n",
    "    plot_image(outputs_val[digit_index])\n",
    "    plt.subplot(5, n_test_digits, (digit_index+31))\n",
    "    plot_image(X_test_pca_re[digit_index])\n",
    "    plt.subplot(5, n_test_digits, (digit_index+41))\n",
    "    plot_image(X_test_pca_re_I[digit_index])"
   ]
  },
  {
   "cell_type": "markdown",
   "metadata": {},
   "source": [
    "looks like the pics of pretrained autoencoder is more clear, though it also collects wrong feature for 5."
   ]
  },
  {
   "cell_type": "code",
   "execution_count": 45,
   "metadata": {},
   "outputs": [],
   "source": [
    "#calculate the mse\n",
    "def error(X):\n",
    "    result = []\n",
    "    for i in range(len(X)):\n",
    "        x = np.linalg.norm(abs(X_test[i] - X[i]))\n",
    "        if np.isnan(x):\n",
    "            result.append(0)\n",
    "        else:\n",
    "            result.append(x)\n",
    "    y = sum(result)/len(X)\n",
    "    return y "
   ]
  },
  {
   "cell_type": "code",
   "execution_count": 49,
   "metadata": {},
   "outputs": [
    {
     "data": {
      "text/plain": [
       "462231468.43166173"
      ]
     },
     "execution_count": 49,
     "metadata": {},
     "output_type": "execute_result"
    }
   ],
   "source": [
    "#mse of pretrain autoencoder\n",
    "error(re_X_test)  \n",
    "#i don't know why, last night the error is low, today i train it again, the plot looks good\n",
    "#but the error is high also."
   ]
  },
  {
   "cell_type": "code",
   "execution_count": 50,
   "metadata": {},
   "outputs": [
    {
     "data": {
      "text/plain": [
       "428824463.5035212"
      ]
     },
     "execution_count": 50,
     "metadata": {},
     "output_type": "execute_result"
    }
   ],
   "source": [
    "#mse of no pretrain autoencoder\n",
    "error(outputs_val)"
   ]
  },
  {
   "cell_type": "code",
   "execution_count": 51,
   "metadata": {},
   "outputs": [
    {
     "data": {
      "text/plain": [
       "444009465.75115871"
      ]
     },
     "execution_count": 51,
     "metadata": {},
     "output_type": "execute_result"
    }
   ],
   "source": [
    "#mse of simple pca\n",
    "error(X_test_pca_re) "
   ]
  },
  {
   "cell_type": "code",
   "execution_count": 52,
   "metadata": {},
   "outputs": [
    {
     "data": {
      "text/plain": [
       "444616865.8387782"
      ]
     },
     "execution_count": 52,
     "metadata": {},
     "output_type": "execute_result"
    }
   ],
   "source": [
    "#mse of incremental pca\n",
    "error(X_test_pca_re_I) "
   ]
  },
  {
   "cell_type": "markdown",
   "metadata": {},
   "source": [
    "# MDS"
   ]
  },
  {
   "cell_type": "code",
   "execution_count": 1,
   "metadata": {},
   "outputs": [],
   "source": [
    "from __future__ import division\n",
    " \n",
    "import numpy as np\n",
    " \n",
    "def cmdscale(D,q):\n",
    "    \"\"\"                                                                                       \n",
    "    Classical multidimensional scaling (MDS)                                                  \n",
    "                                                                                               \n",
    "    Parameters                                                                                \n",
    "    ----------                                                                                \n",
    "    D : (n, n) array                                                                          \n",
    "        Symmetric distance matrix.                                                            \n",
    "                                                                                               \n",
    "    Returns                                                                                   \n",
    "    -------                                                                                   \n",
    "    Y : (n, p) array                                                                          \n",
    "        Configuration matrix. Each column represents a dimension. Only the                    \n",
    "        p dimensions corresponding to positive eigenvalues of B are returned.                 \n",
    "        Note that each dimension is only determined up to an overall sign,                    \n",
    "        corresponding to a reflection.                                                        \n",
    "                                                                                               \n",
    "    e : (n,) array                                                                            \n",
    "        Eigenvalues of B.                                                                     \n",
    "                                                                                               \n",
    "    \"\"\"\n",
    "    # Number of points                                                                        \n",
    "    n = len(D)\n",
    " \n",
    "    # Centering matrix                                                                        \n",
    "    H = np.eye(n) - np.ones((n, n))/n\n",
    " \n",
    "    # YY^T                                                                                    \n",
    "    B = -H.dot(D**2).dot(H)/2\n",
    " \n",
    "    # Diagonalize                                                                             \n",
    "    evals, evecs = np.linalg.eigh(B)\n",
    " \n",
    "    # Sort by eigenvalue in descending order                                                  \n",
    "    idx   = np.argsort(evals)[::-1]\n",
    "    evals = evals[idx]\n",
    "    evecs = evecs[:,idx]\n",
    " \n",
    "    # Compute the coordinates using positive-eigenvalued components only                      \n",
    "    w, = np.where(evals > 0)\n",
    "    L  = np.diag(np.sqrt(evals[w[0:q]]))\n",
    "    V  = evecs[:,w[0:q]]\n",
    "    Y  = V.dot(L)\n",
    " \n",
    "    return Y, evals"
   ]
  },
  {
   "cell_type": "code",
   "execution_count": 2,
   "metadata": {},
   "outputs": [],
   "source": [
    "#import data\n",
    "import pandas as pd\n",
    "data = pd.read_csv('airline_distance.csv', header = None)\n",
    "Y, evals = cmdscale(data,2)"
   ]
  },
  {
   "cell_type": "code",
   "execution_count": 3,
   "metadata": {},
   "outputs": [],
   "source": [
    "import pylab as plt\n",
    "%matplotlib inline\n",
    "import seaborn as sns\n",
    "from matplotlib import pyplot as plt"
   ]
  },
  {
   "cell_type": "code",
   "execution_count": 4,
   "metadata": {},
   "outputs": [
    {
     "data": {
      "image/png": "[encoded data removed]",
      "text/plain": [
       "<matplotlib.figure.Figure at 0x1a124b9358>"
      ]
     },
     "metadata": {},
     "output_type": "display_data"
    }
   ],
   "source": [
    "name = ['Atlanta', 'Chicago', 'Denver', 'Houston', 'LosAngeles', 'Miami', 'NewYork', 'SanFrancisco', 'Seattle',\n",
    "        'WashingtonDC']\n",
    "plt.rcParams['figure.figsize'] = (10,8)\n",
    "plt.scatter(Y[:, 0], Y[:, 1],  s=100, \n",
    "cmap='autumn', edgecolors='black', linewidth=1.5)\n",
    "plt.title(\"Classical MDS\",size = 15)\n",
    "for i in range(10):\n",
    "    plt.annotate(name[i], xy=(Y[i]), xytext=((Y[i]+25)), size = 15)"
   ]
  },
  {
   "cell_type": "code",
   "execution_count": 5,
   "metadata": {},
   "outputs": [],
   "source": [
    "from sklearn import manifold\n",
    "MDS = manifold.MDS(n_components=2, metric=True, dissimilarity='precomputed')\n",
    "result = MDS.fit(data, y=None, init=None)\n",
    "nMDS = manifold.MDS(n_components=2, metric=False, dissimilarity='precomputed')\n",
    "result_n = nMDS.fit(data, y=None, init=None)\n",
    "\n",
    "nMDS_result = nMDS.fit_transform(data, y=None, init=None)\n",
    "MDS_result = MDS.fit_transform(data, y=None, init=None)"
   ]
  },
  {
   "cell_type": "code",
   "execution_count": 6,
   "metadata": {},
   "outputs": [
    {
     "data": {
      "image/png": "[encoded data removed]",
      "text/plain": [
       "<matplotlib.figure.Figure at 0x1a124a1c88>"
      ]
     },
     "metadata": {},
     "output_type": "display_data"
    }
   ],
   "source": [
    "plt.rcParams['figure.figsize'] = (10,8)\n",
    "plt.scatter(MDS_result[:, 0], MDS_result[:, 1],  s=100, \n",
    "cmap='autumn', edgecolors='black', linewidth=1.5)\n",
    "plt.title(\"Metric MDS\", size = 15)\n",
    "for i in range(10):\n",
    "    plt.annotate(name[i], xy=(MDS_result[i]), xytext=((MDS_result[i]+20)),size = 15)"
   ]
  },
  {
   "cell_type": "code",
   "execution_count": 7,
   "metadata": {},
   "outputs": [
    {
     "data": {
      "image/png": "[encoded data removed]",
      "text/plain": [
       "<matplotlib.figure.Figure at 0x1a124a1400>"
      ]
     },
     "metadata": {},
     "output_type": "display_data"
    }
   ],
   "source": [
    "plt.rcParams['figure.figsize'] = (10,8)\n",
    "plt.scatter(nMDS_result[:, 0], nMDS_result[:, 1],  s=100, \n",
    "cmap='autumn', edgecolors='black', linewidth=1.5)\n",
    "plt.title(\"non METRIC MDS\", size = 15)\n",
    "for i in range(10):\n",
    "    plt.annotate(name[i], xy=(nMDS_result[i]), xytext=((nMDS_result[i]+.01)),size = 15)"
   ]
  },
  {
   "cell_type": "code",
   "execution_count": 8,
   "metadata": {},
   "outputs": [],
   "source": [
    "import math\n",
    "matrix = np.asarray([(0,math.pi/2,math.pi,math.pi/4, math.pi/2, 0, math.pi/2, 3*math.pi/4, math.pi, math.pi/2, 0, 3*math.pi/4,\n",
    "          math.pi/4, 3*math.pi/4, 3*math.pi/4, 0)]).reshape(4,4)"
   ]
  },
  {
   "cell_type": "code",
   "execution_count": 9,
   "metadata": {},
   "outputs": [],
   "source": [
    "Y, evals = cmdscale(matrix,2)\n",
    "NAME = ['a', 'd', 'b', 'c']\n",
    "Y = np.append(Y,Y[0])\n",
    "Y = Y.reshape(5,2)"
   ]
  },
  {
   "cell_type": "code",
   "execution_count": 10,
   "metadata": {},
   "outputs": [
    {
     "data": {
      "image/png": "[encoded data removed]",
      "text/plain": [
       "<matplotlib.figure.Figure at 0x1a124a16d8>"
      ]
     },
     "metadata": {},
     "output_type": "display_data"
    }
   ],
   "source": [
    "plt.rcParams['figure.figsize'] = (10,8)\n",
    "plt.scatter(Y[:, 0], Y[:, 1],  s=100, \n",
    "cmap='autumn', edgecolors='black', linewidth=1.5)\n",
    "plt.plot(Y[:, 0], Y[:, 1])\n",
    "plt.title(\"Classical MDS\",size = 15)\n",
    "for i in range(4):\n",
    "    plt.annotate(NAME[i], xy=(Y[i]), xytext=((Y[i]+.05)), size = 15)"
   ]
  },
  {
   "cell_type": "code",
   "execution_count": 11,
   "metadata": {},
   "outputs": [
    {
     "data": {
      "text/plain": [
       "array([[0.        , 3.91420251, 9.91575851, 2.02159162],\n",
       "       [3.91420251, 0.        , 3.44353624, 5.55196268],\n",
       "       [9.91575851, 3.44353624, 0.        , 6.49329522],\n",
       "       [2.02159162, 5.55196268, 6.49329522, 0.        ]])"
      ]
     },
     "execution_count": 11,
     "metadata": {},
     "output_type": "execute_result"
    }
   ],
   "source": [
    "a = np.zeros((4,4),dtype=float)\n",
    "for i in range(4):\n",
    "    for j in range(4):\n",
    "        a[i,j] = np.dot(Y[i],Y[i].T) + np.dot(Y[j],Y[j].T) - 2*np.dot(Y[i],Y[j].T)\n",
    "a"
   ]
  },
  {
   "cell_type": "code",
   "execution_count": null,
   "metadata": {},
   "outputs": [],
   "source": []
  },
  {
   "cell_type": "code",
   "execution_count": null,
   "metadata": {},
   "outputs": [],
   "source": []
  }
 ],
 "metadata": {
  "kernelspec": {
   "display_name": "Python 3",
   "language": "python",
   "name": "python3"
  },
  "language_info": {
   "codemirror_mode": {
    "name": "ipython",
    "version": 3
   },
   "file_extension": ".py",
   "mimetype": "text/x-python",
   "name": "python",
   "nbconvert_exporter": "python",
   "pygments_lexer": "ipython3",
   "version": "3.6.4"
  }
 },
 "nbformat": 4,
 "nbformat_minor": 2
}
