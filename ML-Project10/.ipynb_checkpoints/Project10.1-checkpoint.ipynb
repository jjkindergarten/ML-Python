{
 "cells": [
  {
   "cell_type": "code",
   "execution_count": 2,
   "metadata": {},
   "outputs": [],
   "source": [
    "from scipy import misc as ms\n",
    "import numpy as np\n",
    "import matplotlib.pyplot as plt\n",
    "import imageio\n",
    "from skimage import transform\n",
    "\n",
    "def radon(image, steps):\n",
    "    r = np.zeros((steps, len(image)), dtype='float64')\n",
    "    for n in range(steps):\n",
    "        rotation = ms.imrotate(image, -n*180/steps).astype('float64')\n",
    "        r[:,n] = sum(rotation)\n",
    "    return r"
   ]
  },
  {
   "cell_type": "code",
   "execution_count": 3,
   "metadata": {},
   "outputs": [
    {
     "name": "stderr",
     "output_type": "stream",
     "text": [
      "/Users/wangj3475/anaconda3/lib/python3.6/site-packages/ipykernel_launcher.py:2: DeprecationWarning: `imread` is deprecated!\n",
      "`imread` is deprecated in SciPy 1.0.0, and will be removed in 1.2.0.\n",
      "Use ``imageio.imread`` instead.\n",
      "  \n",
      "/Users/wangj3475/anaconda3/lib/python3.6/site-packages/ipykernel_launcher.py:4: DeprecationWarning: `imread` is deprecated!\n",
      "`imread` is deprecated in SciPy 1.0.0, and will be removed in 1.2.0.\n",
      "Use ``imageio.imread`` instead.\n",
      "  after removing the cwd from sys.path.\n",
      "/Users/wangj3475/anaconda3/lib/python3.6/site-packages/ipykernel_launcher.py:6: DeprecationWarning: `imread` is deprecated!\n",
      "`imread` is deprecated in SciPy 1.0.0, and will be removed in 1.2.0.\n",
      "Use ``imageio.imread`` instead.\n",
      "  \n"
     ]
    }
   ],
   "source": [
    "# Read image as 64bit float gray scale\n",
    "image1 = ms.imread('pic1.png', flatten=True).astype('float64')\n",
    "\n",
    "image2 = ms.imread('pic2.png', flatten=True).astype('float64')\n",
    "\n",
    "image3 = ms.imread('pic3.png', flatten=True).astype('float64')"
   ]
  },
  {
   "cell_type": "code",
   "execution_count": 4,
   "metadata": {},
   "outputs": [
    {
     "name": "stderr",
     "output_type": "stream",
     "text": [
      "/Users/wangj3475/anaconda3/lib/python3.6/site-packages/ipykernel_launcher.py:10: DeprecationWarning: `imrotate` is deprecated!\n",
      "`imrotate` is deprecated in SciPy 1.0.0, and will be removed in 1.2.0.\n",
      "Use ``skimage.transform.rotate`` instead.\n",
      "  # Remove the CWD from sys.path while we load stuff.\n"
     ]
    }
   ],
   "source": [
    "radon1 = radon(image1, 220)\n",
    "radon2 = radon(image2, 220)\n",
    "radon3 = radon(image3, 220)"
   ]
  },
  {
   "cell_type": "code",
   "execution_count": 5,
   "metadata": {},
   "outputs": [
    {
     "data": {
      "image/png": "[encoded data removed]",
      "text/plain": [
       "<matplotlib.figure.Figure at 0x1c078e54e0>"
      ]
     },
     "metadata": {},
     "output_type": "display_data"
    }
   ],
   "source": [
    "# Plot the original and the radon transformed image\n",
    "plt.subplot(3, 2, 1), plt.imshow(image1-255, cmap='gray')\n",
    "plt.xticks([]), plt.yticks([])\n",
    "plt.subplot(3, 2, 2), plt.imshow(radon1-255, cmap='gray')\n",
    "plt.xticks([]), plt.yticks([])\n",
    "\n",
    "plt.subplot(3, 2, 3), plt.imshow(image2-255, cmap='gray')\n",
    "plt.xticks([]), plt.yticks([])\n",
    "plt.subplot(3, 2, 4), plt.imshow(radon2-255, cmap='gray')\n",
    "plt.xticks([]), plt.yticks([])\n",
    "\n",
    "plt.subplot(3, 2, 5), plt.imshow(image3-256, cmap='gray')\n",
    "plt.xticks([]), plt.yticks([])\n",
    "plt.subplot(3, 2, 6), plt.imshow(radon3-255, cmap='gray')\n",
    "plt.xticks([]), plt.yticks([])\n",
    "\n",
    "\n",
    "plt.show()"
   ]
  },
  {
   "cell_type": "code",
   "execution_count": 6,
   "metadata": {},
   "outputs": [
    {
     "data": {
      "text/plain": [
       "{0.0, 255.0}"
      ]
     },
     "execution_count": 6,
     "metadata": {},
     "output_type": "execute_result"
    }
   ],
   "source": [
    "a = [image1[i,j] for i in range(220) for j in range(220)]\n",
    "set(a)\n",
    "#let's assume that 0 means white, and 255 means black.\n",
    "#here i try to convert it into -1 means white (rest) and 1 means black (fire)"
   ]
  },
  {
   "cell_type": "code",
   "execution_count": 7,
   "metadata": {},
   "outputs": [],
   "source": [
    "#design a function, if there's more balck (255) then white (0), then compress the sub matrix to be a pixel black\n",
    "#othewise compress it to be a pixel white\n",
    "#sub matrix 11*11\n",
    "def compress_pixel(image):\n",
    "    compressed_image = []\n",
    "    for i in range(44):\n",
    "        for j in range(44):\n",
    "            pixel = image[(i*5):(5+i*5),(j*5):(5+j*5)]\n",
    "            #at least 61*255 then this pixel is balck, else white\n",
    "            if pixel.sum() > 12*255:\n",
    "                new_pixel = -1\n",
    "            elif pixel.sum() < 13*255:\n",
    "                new_pixel = 1\n",
    "            compressed_image.append(new_pixel)\n",
    "    return compressed_image"
   ]
  },
  {
   "cell_type": "code",
   "execution_count": 8,
   "metadata": {},
   "outputs": [],
   "source": [
    "image1_v = compress_pixel(image1)\n",
    "image2_v = compress_pixel(image2)\n",
    "image3_v = compress_pixel(image3)"
   ]
  },
  {
   "cell_type": "code",
   "execution_count": 194,
   "metadata": {},
   "outputs": [
    {
     "data": {
      "image/png": "[encoded data removed]",
      "text/plain": [
       "<matplotlib.figure.Figure at 0x1c1d41b5f8>"
      ]
     },
     "metadata": {},
     "output_type": "display_data"
    }
   ],
   "source": [
    "fig = plt.figure(figsize=(12, 4))\n",
    "\n",
    "image1_new = convert_v_to_m(image1_v)\n",
    "#plot the photo\n",
    "plt.subplot(131)\n",
    "plt.imshow(image1_new-255, cmap='gray')\n",
    "plt.xticks([]), plt.yticks([])\n",
    "\n",
    "image2_new = convert_v_to_m(image2_v)\n",
    "#plot the photo\n",
    "plt.subplot(132)\n",
    "plt.imshow(image2_new-255, cmap='gray')\n",
    "plt.xticks([]), plt.yticks([])\n",
    "\n",
    "image3_new = convert_v_to_m(image3_v)\n",
    "#plot the photo\n",
    "plt.subplot(133)\n",
    "plt.imshow(image3_new-255, cmap='gray')\n",
    "plt.xticks([]), plt.yticks([])\n",
    "\n",
    "plt.show()"
   ]
  },
  {
   "cell_type": "code",
   "execution_count": 9,
   "metadata": {},
   "outputs": [],
   "source": [
    "w = np.zeros((len(image1_v),len(image1_v)))\n",
    "for i in range(len(image1_v)):\n",
    "    for j in range(i+1):\n",
    "        w[i,j] = image1_v[i]*image1_v[j] + image2_v[i]*image2_v[j] + image3_v[i]*image3_v[j]\n",
    "        w[j,i] = w[i,j]"
   ]
  },
  {
   "cell_type": "code",
   "execution_count": 10,
   "metadata": {},
   "outputs": [],
   "source": [
    "# learning rule\n",
    "def learn(S,w):\n",
    "    S_new = np.zeros(len(S))\n",
    "    for i in range(len(w)):\n",
    "        if w[i] @ S.T > 0:\n",
    "            S_new[i] = 1\n",
    "        elif w[i] @ S.T < 0:\n",
    "            S_new[i] = -1\n",
    "    return S_new"
   ]
  },
  {
   "cell_type": "code",
   "execution_count": 11,
   "metadata": {},
   "outputs": [],
   "source": [
    "#define a function to convert the S back to image matrix\n",
    "#1 -> 255, -1 -> 0\n",
    "def convert_v_to_m(S):\n",
    "    S_new = np.zeros(len(S))\n",
    "    for i in range(len(S)):\n",
    "        if S[i] == -1:\n",
    "            S_new[i] = 255\n",
    "    S_new = S_new.reshape((44,44))\n",
    "    return S_new\n",
    "            "
   ]
  },
  {
   "cell_type": "code",
   "execution_count": 16,
   "metadata": {},
   "outputs": [
    {
     "data": {
      "image/png": "[encoded data removed]",
      "text/plain": [
       "<matplotlib.figure.Figure at 0x1c133d4828>"
      ]
     },
     "metadata": {},
     "output_type": "display_data"
    }
   ],
   "source": [
    "#create new S and then see if it converges to the one of the picture\n",
    "import random\n",
    "fig = plt.figure(figsize=(18, 4))\n",
    "\n",
    "S1 = np.array([random.choice([-1,1]) for i in range(len(image1_v))])\n",
    "S1_image = convert_v_to_m(S1)\n",
    "plt.subplot(161)\n",
    "plt.imshow(S1_image-255, cmap='gray')\n",
    "plt.xticks([]), plt.yticks([])\n",
    "\n",
    "for m in range(5):\n",
    "    S1 = learn(S1,w)\n",
    "    S1_image = convert_v_to_m(S1)\n",
    "    #plot the photo\n",
    "    plt.subplot(162 + m)\n",
    "    plt.imshow(S1_image-255, cmap='gray')\n",
    "    plt.xticks([]), plt.yticks([])\n",
    "\n",
    "plt.show()"
   ]
  },
  {
   "cell_type": "code",
   "execution_count": 19,
   "metadata": {},
   "outputs": [
    {
     "data": {
      "image/png": "[encoded data removed]",
      "text/plain": [
       "<matplotlib.figure.Figure at 0x1c0d5f5860>"
      ]
     },
     "metadata": {},
     "output_type": "display_data"
    }
   ],
   "source": [
    "#create new S and then see if it converges to the one of the picture\n",
    "import random\n",
    "fig = plt.figure(figsize=(18, 4))\n",
    "\n",
    "S1 = np.array([random.choice([-1,1]) for i in range(len(image1_v))])\n",
    "S1_image = convert_v_to_m(S1)\n",
    "plt.subplot(161)\n",
    "plt.imshow(S1_image-255, cmap='gray')\n",
    "plt.xticks([]), plt.yticks([])\n",
    "\n",
    "for m in range(5):\n",
    "    S1 = learn(S1,w)\n",
    "    S1_image = convert_v_to_m(S1)\n",
    "    #plot the photo\n",
    "    plt.subplot(162 + m)\n",
    "    plt.imshow(S1_image-255, cmap='gray')\n",
    "    plt.xticks([]), plt.yticks([])\n",
    "\n",
    "plt.show()"
   ]
  },
  {
   "cell_type": "markdown",
   "metadata": {},
   "source": [
    "As we can see, the initial value could first converge to one pattern and then swithc to some stable patterns which may be a combination of three pattern ?"
   ]
  },
  {
   "cell_type": "code",
   "execution_count": null,
   "metadata": {},
   "outputs": [],
   "source": []
  }
 ],
 "metadata": {
  "kernelspec": {
   "display_name": "Python 3",
   "language": "python",
   "name": "python3"
  },
  "language_info": {
   "codemirror_mode": {
    "name": "ipython",
    "version": 3
   },
   "file_extension": ".py",
   "mimetype": "text/x-python",
   "name": "python",
   "nbconvert_exporter": "python",
   "pygments_lexer": "ipython3",
   "version": "3.6.4"
  }
 },
 "nbformat": 4,
 "nbformat_minor": 2
}
