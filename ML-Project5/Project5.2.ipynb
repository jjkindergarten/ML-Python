{
 "cells": [
  {
   "cell_type": "code",
   "execution_count": 1,
   "metadata": {},
   "outputs": [],
   "source": [
    "import numpy as np\n",
    "import pandas as pd\n",
    "import urllib.request as ur"
   ]
  },
  {
   "cell_type": "code",
   "execution_count": 2,
   "metadata": {},
   "outputs": [],
   "source": [
    "url = \"https://archive.ics.uci.edu/ml/machine-learning-databases/abalone/abalone.data\"\n",
    "raw_data = ur.urlopen(url)\n",
    "dataset = pd.read_table(raw_data, header=None, sep = ',')"
   ]
  },
  {
   "cell_type": "code",
   "execution_count": 67,
   "metadata": {},
   "outputs": [],
   "source": [
    "#separate the data and label\n",
    "y = dataset[8]\n",
    "data = [dataset[i] for i in range(1,8)]\n",
    "data = np.asarray(data).T\n",
    "x = np.zeros((len(dataset),9))\n",
    "x[:,range(7)] = data"
   ]
  },
  {
   "cell_type": "code",
   "execution_count": 72,
   "metadata": {},
   "outputs": [],
   "source": [
    "#first we need to turn the gender M F I into dummy variable\n",
    "#set two col to replace the col of gender, 0 0 represents inflant, 1 0 represents male, 0 1 represents female\n",
    "for i in range(len(x)):\n",
    "    if dataset[0][i] == 'M':\n",
    "        x[i,7] = 1\n",
    "    else:\n",
    "        if dataset[0][i] == 'F':\n",
    "            x[i,8] = 1\n"
   ]
  },
  {
   "cell_type": "code",
   "execution_count": 88,
   "metadata": {},
   "outputs": [],
   "source": [
    "#svm model\n",
    "from sklearn.svm import SVR\n",
    "from sklearn.model_selection import GridSearchCV\n",
    "\n",
    "svm_reg = SVR()\n",
    "param_grid = [\n",
    "    {'kernel':['poly'], 'degree':[2,4], 'C' : [100, 200, 500], 'epsilon':[.1, .5],'cache_size' : [4000]},\n",
    "    {'kernel':['rbf'], 'C' : [100, 200, 500], 'epsilon':[.1, .5],'cache_size' : [4000]}\n",
    "]"
   ]
  },
  {
   "cell_type": "code",
   "execution_count": 89,
   "metadata": {},
   "outputs": [
    {
     "data": {
      "text/plain": [
       "GridSearchCV(cv=5, error_score='raise',\n",
       "       estimator=SVR(C=1.0, cache_size=200, coef0=0.0, degree=3, epsilon=0.1, gamma='auto',\n",
       "  kernel='rbf', max_iter=-1, shrinking=True, tol=0.001, verbose=False),\n",
       "       fit_params=None, iid=True, n_jobs=1,\n",
       "       param_grid=[{'kernel': ['poly'], 'degree': [2, 4], 'C': [100, 200, 500], 'epsilon': [0.1, 0.5], 'cache_size': [4000]}, {'kernel': ['rbf'], 'C': [100, 200, 500], 'epsilon': [0.1, 0.5], 'cache_size': [4000]}],\n",
       "       pre_dispatch='2*n_jobs', refit=True, return_train_score='warn',\n",
       "       scoring='neg_mean_squared_error', verbose=0)"
      ]
     },
     "execution_count": 89,
     "metadata": {},
     "output_type": "execute_result"
    }
   ],
   "source": [
    "grid_search = GridSearchCV(svm_reg, param_grid, cv = 5, scoring = 'neg_mean_squared_error')\n",
    "grid_search.fit(x, y)"
   ]
  },
  {
   "cell_type": "code",
   "execution_count": 90,
   "metadata": {},
   "outputs": [
    {
     "name": "stdout",
     "output_type": "stream",
     "text": [
      "2.38761988621 {'C': 100, 'cache_size': 4000, 'degree': 2, 'epsilon': 0.1, 'kernel': 'poly'}\n",
      "2.38088299292 {'C': 100, 'cache_size': 4000, 'degree': 2, 'epsilon': 0.5, 'kernel': 'poly'}\n",
      "2.59910512328 {'C': 100, 'cache_size': 4000, 'degree': 4, 'epsilon': 0.1, 'kernel': 'poly'}\n",
      "2.60183399944 {'C': 100, 'cache_size': 4000, 'degree': 4, 'epsilon': 0.5, 'kernel': 'poly'}\n",
      "2.34901379628 {'C': 200, 'cache_size': 4000, 'degree': 2, 'epsilon': 0.1, 'kernel': 'poly'}\n",
      "2.34890924454 {'C': 200, 'cache_size': 4000, 'degree': 2, 'epsilon': 0.5, 'kernel': 'poly'}\n",
      "2.54059553668 {'C': 200, 'cache_size': 4000, 'degree': 4, 'epsilon': 0.1, 'kernel': 'poly'}\n",
      "2.53726173056 {'C': 200, 'cache_size': 4000, 'degree': 4, 'epsilon': 0.5, 'kernel': 'poly'}\n",
      "2.31627418062 {'C': 500, 'cache_size': 4000, 'degree': 2, 'epsilon': 0.1, 'kernel': 'poly'}\n",
      "2.30432923361 {'C': 500, 'cache_size': 4000, 'degree': 2, 'epsilon': 0.5, 'kernel': 'poly'}\n",
      "2.47308601058 {'C': 500, 'cache_size': 4000, 'degree': 4, 'epsilon': 0.1, 'kernel': 'poly'}\n",
      "2.46862030292 {'C': 500, 'cache_size': 4000, 'degree': 4, 'epsilon': 0.5, 'kernel': 'poly'}\n",
      "2.24775368356 {'C': 100, 'cache_size': 4000, 'epsilon': 0.1, 'kernel': 'rbf'}\n",
      "2.24183514341 {'C': 100, 'cache_size': 4000, 'epsilon': 0.5, 'kernel': 'rbf'}\n",
      "2.23759480578 {'C': 200, 'cache_size': 4000, 'epsilon': 0.1, 'kernel': 'rbf'}\n",
      "2.22983676004 {'C': 200, 'cache_size': 4000, 'epsilon': 0.5, 'kernel': 'rbf'}\n",
      "2.2215506894 {'C': 500, 'cache_size': 4000, 'epsilon': 0.1, 'kernel': 'rbf'}\n",
      "2.21919607931 {'C': 500, 'cache_size': 4000, 'epsilon': 0.5, 'kernel': 'rbf'}\n"
     ]
    }
   ],
   "source": [
    "cures = grid_search.cv_results_\n",
    "for mean_score, params in zip(cures[\"mean_test_score\"],cures[\"params\"]):\n",
    "    print(np.sqrt(-mean_score),params)"
   ]
  },
  {
   "cell_type": "code",
   "execution_count": null,
   "metadata": {
    "collapsed": true
   },
   "outputs": [],
   "source": []
  }
 ],
 "metadata": {
  "kernelspec": {
   "display_name": "Python 3",
   "language": "python",
   "name": "python3"
  },
  "language_info": {
   "codemirror_mode": {
    "name": "ipython",
    "version": 3
   },
   "file_extension": ".py",
   "mimetype": "text/x-python",
   "name": "python",
   "nbconvert_exporter": "python",
   "pygments_lexer": "ipython3",
   "version": "3.6.3"
  }
 },
 "nbformat": 4,
 "nbformat_minor": 2
}
