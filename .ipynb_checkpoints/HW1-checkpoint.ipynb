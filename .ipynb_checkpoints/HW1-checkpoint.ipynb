{
 "cells": [
  {
   "cell_type": "code",
   "execution_count": 1,
   "metadata": {
    "collapsed": true
   },
   "outputs": [],
   "source": [
    "from PIL import Image\n",
    "import numpy as np\n",
    "import matplotlib.pyplot as plt"
   ]
  },
  {
   "cell_type": "code",
   "execution_count": 2,
   "metadata": {
    "collapsed": true
   },
   "outputs": [],
   "source": [
    "ones = []\n",
    "zeros = []\n",
    "test = []"
   ]
  },
  {
   "cell_type": "code",
   "execution_count": 3,
   "metadata": {
    "collapsed": true
   },
   "outputs": [],
   "source": [
    "for i in range(40):\n",
    "    one = Image.open(\"training_ones/\"+str(i)+\".png\").convert('L')\n",
    "    zero = Image.open(\"training_zeros/\"+str(i)+\".png\").convert('L')\n",
    "    ones.append(np.asarray(one))\n",
    "    zeros.append(np.asarray(zero))"
   ]
  },
  {
   "cell_type": "code",
   "execution_count": 5,
   "metadata": {},
   "outputs": [],
   "source": [
    "for i in range(20):\n",
    "    t = Image.open(\"test/\"+str(i)+\".png\").convert('L')\n",
    "    test.append(np.asarray(t))"
   ]
  },
  {
   "cell_type": "code",
   "execution_count": 6,
   "metadata": {
    "collapsed": true
   },
   "outputs": [],
   "source": [
    "# hw1 question 1\n",
    "## svd\n",
    "ones_svd = list(range(40))\n",
    "zeros_svd = list(range(40))\n",
    "test_svd = list(range(20))"
   ]
  },
  {
   "cell_type": "code",
   "execution_count": 13,
   "metadata": {
    "collapsed": true
   },
   "outputs": [],
   "source": [
    "j = 1\n",
    "for i in range(40):\n",
    "    one_u, one_s, one_d = np.linalg.svd(ones[i])\n",
    "    zero_u, zero_s, zero_d = np.linalg.svd(zeros[i])\n",
    "    compress_zero = np.dot(zero_u[:,:j],np.diag(zero_s)[:j,:j])\n",
    "    compress_zero = np.dot(compress_zero,zero_d[:j,:])\n",
    "    compress_one = np.dot(one_u[:,:j],np.diag(one_s)[:j,:j])\n",
    "    compress_one = np.dot(compress_one,one_d[:j,:])\n",
    "    ones_svd[i] = np.asarray(compress_one)\n",
    "    zeros_svd[i] = np.asarray(compress_zero)    "
   ]
  },
  {
   "cell_type": "code",
   "execution_count": 14,
   "metadata": {
    "collapsed": true
   },
   "outputs": [],
   "source": [
    "ones_svd_distances = list(range(20))\n",
    "zeros_svd_distances = list(range(20))\n",
    "ones_distances = list(range(20))\n",
    "zeros_distances = list(range(20))\n",
    "for i in range(20):\n",
    "        ones_svd_distance = [np.linalg.norm(compress_one - test[i]) for compress_one in ones_svd]\n",
    "        zeros_svd_distance = [np.linalg.norm(compress_zero - test[i]) for compress_zero in zeros_svd]\n",
    "        ones_svd_distances[i] = np.asarray(ones_svd_distance)\n",
    "        zeros_svd_distances[i] = np.asarray(zeros_svd_distance)\n",
    "        ones_distance = [np.linalg.norm(one - test[i]) for one in ones]\n",
    "        zeros_distance = [np.linalg.norm(zero - test[i]) for zero in zeros]\n",
    "        ones_distances[i] = np.asarray(ones_distance)\n",
    "        zeros_distances[i] = np.asarray(zeros_distance)"
   ]
  },
  {
   "cell_type": "code",
   "execution_count": 15,
   "metadata": {
    "collapsed": true
   },
   "outputs": [],
   "source": [
    "#k=1\n",
    "result = []\n",
    "for m in range(20):\n",
    "    if min(zeros_svd_distances[m]) < min(ones_svd_distances[m]):\n",
    "        result.append(0)\n",
    "    else:\n",
    "        result.append(1)"
   ]
  },
  {
   "cell_type": "code",
   "execution_count": 23,
   "metadata": {},
   "outputs": [
    {
     "data": {
      "text/plain": [
       "array([0, 1, 0, 0, 1, 1, 1, 0, 0, 1, 0, 1, 0, 0, 1, 1, 1, 0, 0, 1])"
      ]
     },
     "execution_count": 23,
     "metadata": {},
     "output_type": "execute_result"
    }
   ],
   "source": [
    "test_truth = np.array([0,1,0,0,1,1,1,0,0,1,0,1,0,1,0,1,0,1,0,1])\n",
    "result = np.array(result) \n",
    "result"
   ]
  },
  {
   "cell_type": "code",
   "execution_count": 36,
   "metadata": {},
   "outputs": [],
   "source": [
    "#calcualte the fail rate\n",
    "count = 0\n",
    "set = test_truth - result\n",
    "for m in range(20):\n",
    "    if set[m] != 0:\n",
    "        count = count + 1\n",
    "    \n",
    "success_rate = count/20"
   ]
  },
  {
   "cell_type": "code",
   "execution_count": 34,
   "metadata": {},
   "outputs": [
    {
     "data": {
      "text/plain": [
       "5"
      ]
     },
     "execution_count": 34,
     "metadata": {},
     "output_type": "execute_result"
    }
   ],
   "source": []
  },
  {
   "cell_type": "code",
   "execution_count": 35,
   "metadata": {},
   "outputs": [
    {
     "data": {
      "text/plain": [
       "array([ 0,  0,  0,  0,  0,  0,  0,  0,  0,  0,  0,  0,  0,  1, -1,  0, -1,\n",
       "        1,  0,  0])"
      ]
     },
     "execution_count": 35,
     "metadata": {},
     "output_type": "execute_result"
    }
   ],
   "source": [
    "set"
   ]
  },
  {
   "cell_type": "code",
   "execution_count": null,
   "metadata": {
    "collapsed": true
   },
   "outputs": [],
   "source": []
  }
 ],
 "metadata": {
  "kernelspec": {
   "display_name": "Python 3",
   "language": "python",
   "name": "python3"
  },
  "language_info": {
   "codemirror_mode": {
    "name": "ipython",
    "version": 3
   },
   "file_extension": ".py",
   "mimetype": "text/x-python",
   "name": "python",
   "nbconvert_exporter": "python",
   "pygments_lexer": "ipython3",
   "version": "3.6.3"
  }
 },
 "nbformat": 4,
 "nbformat_minor": 2
}
