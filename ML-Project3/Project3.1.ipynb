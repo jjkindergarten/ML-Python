{
 "cells": [
  {
   "cell_type": "code",
   "execution_count": 1,
   "metadata": {
    "collapsed": true
   },
   "outputs": [],
   "source": [
    "from sklearn.datasets import fetch_mldata\n",
    "import numpy as np\n",
    "import pandas as pd\n",
    "import matplotlib\n",
    "import matplotlib.pyplot as plt\n",
    "import scipy\n",
    "import scipy.io.wavfile\n",
    "import itertools"
   ]
  },
  {
   "cell_type": "code",
   "execution_count": 2,
   "metadata": {
    "collapsed": true
   },
   "outputs": [],
   "source": [
    "minist = fetch_mldata('MNIST original')"
   ]
  },
  {
   "cell_type": "code",
   "execution_count": 3,
   "metadata": {
    "collapsed": true
   },
   "outputs": [],
   "source": [
    "X,y = minist[\"data\"], minist[\"target\"]\n",
    "X_train, X_test, y_train, y_test = X[:60000],X[60000:],y[:60000],y[60000:]"
   ]
  },
  {
   "cell_type": "code",
   "execution_count": 4,
   "metadata": {
    "collapsed": true
   },
   "outputs": [],
   "source": [
    "#pick up image 5 and 6 from the dataset\n",
    "#get the train set of image\n",
    "five_train_image = list(range(40))\n",
    "six_train_image = list(range(40))\n",
    "\n",
    "count5 = -1\n",
    "for i in range(len(y_train)):\n",
    "    if y_train[i] == 5:\n",
    "        count5 = count5 + 1\n",
    "        five_train_image[count5] = np.array(X_train[i,:])\n",
    "    if count5 == 39:\n",
    "        break\n",
    "\n",
    "count6 = -1\n",
    "for i in range(len(y_train)):\n",
    "    if y_train[i] == 6:\n",
    "        count6 = count6 + 1\n",
    "        six_train_image[count6] = np.array(X_train[i,:])\n",
    "    if count6 == 39:\n",
    "        break"
   ]
  },
  {
   "cell_type": "code",
   "execution_count": 5,
   "metadata": {
    "collapsed": true
   },
   "outputs": [],
   "source": [
    "#get the test set with five '5' image and five '6' image\n",
    "five_test_image = list(range(5))\n",
    "six_test_image = list(range(5))\n",
    "\n",
    "count5 = -1\n",
    "for i in range(len(y_test)):\n",
    "    if y_test[i] == 5:\n",
    "        count5 = count5 + 1\n",
    "        five_test_image[count5] = np.array(X_test[i,:])\n",
    "    if count5 == 4:\n",
    "        break\n",
    "\n",
    "count6 = -1\n",
    "for i in range(len(y_test)):\n",
    "    if y_test[i] == 6:\n",
    "        count6 = count6 + 1\n",
    "        six_test_image[count6] = np.array(X_test[i,:])\n",
    "    if count6 == 4:\n",
    "        break"
   ]
  },
  {
   "cell_type": "code",
   "execution_count": 6,
   "metadata": {
    "collapsed": true
   },
   "outputs": [],
   "source": [
    "#combine the test set of image\n",
    "test_image = np.vstack((five_test_image,six_test_image))"
   ]
  },
  {
   "cell_type": "code",
   "execution_count": 7,
   "metadata": {
    "collapsed": true
   },
   "outputs": [],
   "source": [
    "five_train_voice = []\n",
    "six_train_voice = []\n",
    "test_voice = []"
   ]
  },
  {
   "cell_type": "code",
   "execution_count": 8,
   "metadata": {
    "collapsed": true
   },
   "outputs": [],
   "source": [
    "#get the test and train set of voice\n",
    "for i in range(40):\n",
    "    rate, five = scipy.io.wavfile.read(\"five_train/5_jackson_\"+str(i)+\".wav\",mmap=False)\n",
    "    rate, six = scipy.io.wavfile.read(\"six_train/6_jackson_\"+str(i)+\".wav\",mmap=False)\n",
    "    five_train_voice.append(np.asarray(five))\n",
    "    six_train_voice.append(np.asarray(six))\n",
    "\n",
    "for i in range(10):\n",
    "    rate, t = scipy.io.wavfile.read(\"test/\"+str(i)+\".wav\",mmap=False)\n",
    "    test_voice.append(np.asarray(t))"
   ]
  },
  {
   "cell_type": "code",
   "execution_count": 9,
   "metadata": {
    "collapsed": true
   },
   "outputs": [],
   "source": [
    "max_len = np.max([np.max([len(a) for a in five_train_voice]), np.max([len(a) for a in six_train_voice]), np.max([len(a) for a in test_voice])]) "
   ]
  },
  {
   "cell_type": "code",
   "execution_count": 10,
   "metadata": {
    "collapsed": true
   },
   "outputs": [],
   "source": [
    "#make the vectors of voice have same length\n",
    "five_train_voice = np.asarray([np.pad(a,(0, max_len - len(a)),'constant', constant_values=0) for a in five_train_voice])\n",
    "six_train_voice = np.asarray([np.pad(a,(0, max_len - len(a)),'constant', constant_values=0) for a in six_train_voice])\n",
    "test_voice = np.asarray([np.pad(a,(0, max_len - len(a)),'constant', constant_values=0) for a in test_voice])"
   ]
  },
  {
   "cell_type": "code",
   "execution_count": 11,
   "metadata": {
    "collapsed": true
   },
   "outputs": [],
   "source": [
    "#let me first def a method to get the distance for knn\n",
    "def avg_min_distance(dataset, k ):\n",
    "    store_min = []\n",
    "    for i in range(k):\n",
    "        min1 = min(dataset)\n",
    "        store_min.append(min1)\n",
    "        dataset = np.delete(dataset, np.argmin(dataset))\n",
    "    return np.mean(store_min)"
   ]
  },
  {
   "cell_type": "code",
   "execution_count": 12,
   "metadata": {
    "collapsed": true
   },
   "outputs": [],
   "source": [
    "#value the distance of voice using norm\n",
    "five_voice_distances = list(range(10))\n",
    "six_voice_distances = list(range(10))\n",
    "for i in range(10):\n",
    "    test_val = test_voice[i]/np.linalg.norm(test_voice[i])\n",
    "    five_voice_distance = [np.linalg.norm(five/(np.linalg.norm(five)) - test_val) for five in five_train_voice]\n",
    "    six_voice_distance = [np.linalg.norm(six/np.linalg.norm(six) - test_val) for six in six_train_voice]\n",
    "    five_voice_distances[i] = np.asarray(five_voice_distance)\n",
    "    six_voice_distances[i] = np.asarray(six_voice_distance)"
   ]
  },
  {
   "cell_type": "code",
   "execution_count": 13,
   "metadata": {
    "collapsed": true
   },
   "outputs": [],
   "source": [
    "#value the distance of image using norm\n",
    "five_image_distances = list(range(10))\n",
    "six_image_distances = list(range(10))\n",
    "for i in range(10):\n",
    "    test_val = test_image[i]/np.linalg.norm(test_image[i])\n",
    "    five_image_distance = [np.linalg.norm(five/(np.linalg.norm(five)) - test_val) for five in five_train_image]\n",
    "    six_image_distance = [np.linalg.norm(six/np.linalg.norm(six) - test_val) for six in six_train_image]\n",
    "    five_image_distances[i] = np.asarray(five_image_distance)\n",
    "    six_image_distances[i] = np.asarray(six_image_distance)"
   ]
  },
  {
   "cell_type": "code",
   "execution_count": 14,
   "metadata": {
    "collapsed": true
   },
   "outputs": [],
   "source": [
    "#mix the the distance of voice and image by treating them as a 2-by-1 vector and calculate its length\n",
    "five_distances = list(range(10))\n",
    "six_distances = list(range(10))\n",
    "for i in range(10):\n",
    "    five_distance = np.zeros(40)\n",
    "    six_distance = np.zeros(40)\n",
    "    for j in range(40):\n",
    "        five_distance[j] = (five_image_distances[i][j]**2 + five_voice_distances[i][j]**2)**.5\n",
    "        six_distance[j] = (six_image_distances[i][j]**2 + six_voice_distances[i][j]**2)**.5\n",
    "    five_distances[i] = np.asarray(five_distance)\n",
    "    six_distances[i] = np.asarray(six_distance)\n"
   ]
  },
  {
   "cell_type": "code",
   "execution_count": 15,
   "metadata": {
    "collapsed": true
   },
   "outputs": [],
   "source": [
    "#let's see the result of knn with 1\n",
    "result = []\n",
    "#cloest neighbor method with k \n",
    "for m in range(10):\n",
    "    if avg_min_distance(five_distances[m],1) < avg_min_distance(six_distances[m],1):\n",
    "        result.append(5)\n",
    "    else:\n",
    "        result.append(6)"
   ]
  },
  {
   "cell_type": "code",
   "execution_count": 16,
   "metadata": {},
   "outputs": [
    {
     "data": {
      "text/plain": [
       "[5, 5, 5, 5, 5, 6, 6, 6, 6, 6]"
      ]
     },
     "execution_count": 16,
     "metadata": {},
     "output_type": "execute_result"
    }
   ],
   "source": [
    "result\n",
    "#result looks not bad >_<\n",
    "#real order: 5 5 5 5 5 6 6 6 6 6 "
   ]
  },
  {
   "cell_type": "code",
   "execution_count": 17,
   "metadata": {
    "collapsed": true
   },
   "outputs": [],
   "source": [
    "#transfer the value of test set order, let '5' be '1' and '6' be '0'\n",
    "test_class = [1, 1, 1, 1, 1, 0, 0, 0, 0, 0]"
   ]
  },
  {
   "cell_type": "code",
   "execution_count": 18,
   "metadata": {
    "collapsed": true
   },
   "outputs": [],
   "source": [
    "#in order to get the ROC curve, let's define a confidence value to classify target as positive-\n",
    "#-value: averge mini distance from target to the '6' set - averge mini distance from target to the '5' set\n",
    "def score(k):  #k is the paramter in kmm\n",
    "    test_score = np.zeros(10)\n",
    "    for m in range(10):\n",
    "        test_score[m] = avg_min_distance(six_distances[m], k ) - avg_min_distance(five_distances[m],k)\n",
    "    return test_score\n",
    "        "
   ]
  },
  {
   "cell_type": "code",
   "execution_count": 19,
   "metadata": {
    "collapsed": true
   },
   "outputs": [],
   "source": [
    "from sklearn.metrics import roc_curve"
   ]
  },
  {
   "cell_type": "code",
   "execution_count": 20,
   "metadata": {
    "collapsed": true
   },
   "outputs": [],
   "source": [
    "#the fun sklearn give for get tpr and fpr for roc doesn't work well\n",
    "#have to do it myself\n",
    "def roc(y_true, y_score):\n",
    "    tpr = np.zeros(len(y_true)+2)\n",
    "    fpr = np.zeros(len(y_true)+2)\n",
    "    count = np.append(y_score, max(y_score)+.5)\n",
    "    count = np.append(count, min(y_score)-.5)\n",
    "    count = np.sort(count)\n",
    "    for i in range(len(count)):\n",
    "        decision = np.zeros(len(y_score))\n",
    "        tp = 0\n",
    "        tn = 0\n",
    "        fp = 0\n",
    "        fn = 0\n",
    "        for j in range(len(y_score)):\n",
    "            if (y_score[j] >= count[i]):\n",
    "                decision[j] = 1\n",
    "            else:\n",
    "                decision[j] = 0\n",
    "        for m in range(len(decision)):\n",
    "            if decision[m] == y_true[m] and decision[m] == 1:\n",
    "                tp = tp + 1\n",
    "            else:\n",
    "                if decision[m] == y_true[m] and decision[m] == 0:\n",
    "                    tn = tn + 1\n",
    "                else:\n",
    "                    if decision[m] == 1:\n",
    "                        fp = fp +1\n",
    "                    else:\n",
    "                        fn = fn +1\n",
    "        tpr[i] = tp/(tp + fn)\n",
    "        fpr[i] = fp/(fp + tn)\n",
    "    return(tpr, fpr) "
   ]
  },
  {
   "cell_type": "code",
   "execution_count": 21,
   "metadata": {
    "collapsed": true
   },
   "outputs": [],
   "source": [
    "#function for ploting the ROC curve\n",
    "def plot_roc_curve(fpr, tpr, label = None):\n",
    "    co_ft = np.transpose(np.vstack((fpr, tpr)))\n",
    "    co_ft = sorted(co_ft, key = lambda co_ft: co_ft[1])\n",
    "    co_ft = sorted(co_ft, key = lambda co_ft: co_ft[0])\n",
    "    fpr1,tpr1 = np.hsplit(np.asarray(co_ft),2)\n",
    "    plt.plot(fpr1, tpr1, linewidth = 2, label = label)\n",
    "    plt.plot([0,1], [0,1], 'k--')\n",
    "    plt.axis([-0.01,1.01,-0.01,1.01])\n",
    "    plt.xlabel('False Positive Rate')\n",
    "    plt.ylabel('True Positive Rate')"
   ]
  },
  {
   "cell_type": "code",
   "execution_count": 22,
   "metadata": {},
   "outputs": [
    {
     "data": {
      "image/png": "[encoded data removed]",
      "text/plain": [
       "<matplotlib.figure.Figure at 0x1156ce7f0>"
      ]
     },
     "metadata": {},
     "output_type": "display_data"
    }
   ],
   "source": [
    "#the roc is on the top-left corner\n",
    "tpr, fpr = roc(test_class, score(34))\n",
    "plot_roc_curve(fpr, tpr)\n",
    "plt.show()"
   ]
  },
  {
   "cell_type": "code",
   "execution_count": 23,
   "metadata": {},
   "outputs": [
    {
     "data": {
      "text/plain": [
       "array([ 1. ,  1. ,  1. ,  1. ,  1. ,  1. ,  1. ,  0.8,  0.6,  0.4,  0.2,\n",
       "        0. ])"
      ]
     },
     "execution_count": 23,
     "metadata": {},
     "output_type": "execute_result"
    }
   ],
   "source": [
    "tpr"
   ]
  },
  {
   "cell_type": "code",
   "execution_count": 24,
   "metadata": {},
   "outputs": [
    {
     "data": {
      "text/plain": [
       "array([ 1. ,  1. ,  0.8,  0.6,  0.4,  0.2,  0. ,  0. ,  0. ,  0. ,  0. ,\n",
       "        0. ])"
      ]
     },
     "execution_count": 24,
     "metadata": {},
     "output_type": "execute_result"
    }
   ],
   "source": [
    "fpr"
   ]
  },
  {
   "cell_type": "code",
   "execution_count": 25,
   "metadata": {},
   "outputs": [
    {
     "data": {
      "image/png": "[encoded data removed]",
      "text/plain": [
       "<matplotlib.figure.Figure at 0x10f70ea90>"
      ]
     },
     "metadata": {},
     "output_type": "display_data"
    }
   ],
   "source": [
    "#the roc field turns to be smaller afer k = 35\n",
    "tpr, fpr = roc(test_class, score(35))\n",
    "plot_roc_curve(fpr, tpr)\n",
    "plt.show()"
   ]
  },
  {
   "cell_type": "code",
   "execution_count": 30,
   "metadata": {},
   "outputs": [
    {
     "data": {
      "image/png": "[encoded data removed]",
      "text/plain": [
       "<matplotlib.figure.Figure at 0x115b350b8>"
      ]
     },
     "metadata": {},
     "output_type": "display_data"
    }
   ],
   "source": [
    "tpr, fpr= roc(test_class, score(39))\n",
    "plot_roc_curve(fpr, tpr)\n",
    "plt.show()"
   ]
  },
  {
   "cell_type": "code",
   "execution_count": 227,
   "metadata": {
    "collapsed": true
   },
   "outputs": [],
   "source": [
    "#for k before 34, we have auc = 1\n",
    "from sklearn.metrics import roc_auc_score\n",
    "auc = np.zeros(40)\n",
    "for i in range(1,41):\n",
    "    auc[i-1] = roc_auc_score(test_class,score(i))"
   ]
  },
  {
   "cell_type": "code",
   "execution_count": 228,
   "metadata": {},
   "outputs": [
    {
     "data": {
      "text/plain": [
       "array([ 1.  ,  1.  ,  1.  ,  1.  ,  1.  ,  1.  ,  1.  ,  1.  ,  1.  ,\n",
       "        1.  ,  1.  ,  1.  ,  1.  ,  1.  ,  1.  ,  1.  ,  1.  ,  1.  ,\n",
       "        1.  ,  1.  ,  1.  ,  1.  ,  1.  ,  1.  ,  1.  ,  1.  ,  1.  ,\n",
       "        1.  ,  1.  ,  1.  ,  1.  ,  1.  ,  1.  ,  1.  ,  0.96,  0.96,\n",
       "        0.96,  0.92,  0.92,  0.88])"
      ]
     },
     "execution_count": 228,
     "metadata": {},
     "output_type": "execute_result"
    }
   ],
   "source": [
    "#the result of auc is shown below.\n",
    "auc"
   ]
  },
  {
   "cell_type": "code",
   "execution_count": 226,
   "metadata": {},
   "outputs": [
    {
     "ename": "ValueError",
     "evalue": "min() arg is an empty sequence",
     "output_type": "error",
     "traceback": [
      "\u001b[0;31m---------------------------------------------------------------------------\u001b[0m",
      "\u001b[0;31mValueError\u001b[0m                                Traceback (most recent call last)",
      "\u001b[0;32m<ipython-input-226-0d4c1d23b9ed>\u001b[0m in \u001b[0;36m<module>\u001b[0;34m()\u001b[0m\n\u001b[0;32m----> 1\u001b[0;31m \u001b[0mroc_auc_score\u001b[0m\u001b[0;34m(\u001b[0m\u001b[0mtest_class\u001b[0m\u001b[0;34m,\u001b[0m\u001b[0mscore\u001b[0m\u001b[0;34m(\u001b[0m\u001b[0;36m41\u001b[0m\u001b[0;34m)\u001b[0m\u001b[0;34m)\u001b[0m\u001b[0;34m\u001b[0m\u001b[0m\n\u001b[0m",
      "\u001b[0;32m<ipython-input-85-f3eeab6e6cf7>\u001b[0m in \u001b[0;36mscore\u001b[0;34m(k)\u001b[0m\n\u001b[1;32m      5\u001b[0m     \u001b[0mtest_score\u001b[0m \u001b[0;34m=\u001b[0m \u001b[0mnp\u001b[0m\u001b[0;34m.\u001b[0m\u001b[0mzeros\u001b[0m\u001b[0;34m(\u001b[0m\u001b[0;36m10\u001b[0m\u001b[0;34m)\u001b[0m\u001b[0;34m\u001b[0m\u001b[0m\n\u001b[1;32m      6\u001b[0m     \u001b[0;32mfor\u001b[0m \u001b[0mm\u001b[0m \u001b[0;32min\u001b[0m \u001b[0mrange\u001b[0m\u001b[0;34m(\u001b[0m\u001b[0;36m10\u001b[0m\u001b[0;34m)\u001b[0m\u001b[0;34m:\u001b[0m\u001b[0;34m\u001b[0m\u001b[0m\n\u001b[0;32m----> 7\u001b[0;31m         \u001b[0mtest_score\u001b[0m\u001b[0;34m[\u001b[0m\u001b[0mm\u001b[0m\u001b[0;34m]\u001b[0m \u001b[0;34m=\u001b[0m \u001b[0mavg_min_distance\u001b[0m\u001b[0;34m(\u001b[0m\u001b[0msix_distances\u001b[0m\u001b[0;34m[\u001b[0m\u001b[0mm\u001b[0m\u001b[0;34m]\u001b[0m\u001b[0;34m,\u001b[0m \u001b[0mk\u001b[0m \u001b[0;34m)\u001b[0m \u001b[0;34m-\u001b[0m \u001b[0mavg_min_distance\u001b[0m\u001b[0;34m(\u001b[0m\u001b[0mfive_distances\u001b[0m\u001b[0;34m[\u001b[0m\u001b[0mm\u001b[0m\u001b[0;34m]\u001b[0m\u001b[0;34m,\u001b[0m\u001b[0mk\u001b[0m\u001b[0;34m)\u001b[0m\u001b[0;34m\u001b[0m\u001b[0m\n\u001b[0m\u001b[1;32m      8\u001b[0m     \u001b[0;32mreturn\u001b[0m \u001b[0mtest_score\u001b[0m\u001b[0;34m\u001b[0m\u001b[0m\n\u001b[1;32m      9\u001b[0m \u001b[0;34m\u001b[0m\u001b[0m\n",
      "\u001b[0;32m<ipython-input-11-03c57bab036a>\u001b[0m in \u001b[0;36mavg_min_distance\u001b[0;34m(dataset, k)\u001b[0m\n\u001b[1;32m      3\u001b[0m     \u001b[0mstore_min\u001b[0m \u001b[0;34m=\u001b[0m \u001b[0;34m[\u001b[0m\u001b[0;34m]\u001b[0m\u001b[0;34m\u001b[0m\u001b[0m\n\u001b[1;32m      4\u001b[0m     \u001b[0;32mfor\u001b[0m \u001b[0mi\u001b[0m \u001b[0;32min\u001b[0m \u001b[0mrange\u001b[0m\u001b[0;34m(\u001b[0m\u001b[0mk\u001b[0m\u001b[0;34m)\u001b[0m\u001b[0;34m:\u001b[0m\u001b[0;34m\u001b[0m\u001b[0m\n\u001b[0;32m----> 5\u001b[0;31m         \u001b[0mmin1\u001b[0m \u001b[0;34m=\u001b[0m \u001b[0mmin\u001b[0m\u001b[0;34m(\u001b[0m\u001b[0mdataset\u001b[0m\u001b[0;34m)\u001b[0m\u001b[0;34m\u001b[0m\u001b[0m\n\u001b[0m\u001b[1;32m      6\u001b[0m         \u001b[0mstore_min\u001b[0m\u001b[0;34m.\u001b[0m\u001b[0mappend\u001b[0m\u001b[0;34m(\u001b[0m\u001b[0mmin1\u001b[0m\u001b[0;34m)\u001b[0m\u001b[0;34m\u001b[0m\u001b[0m\n\u001b[1;32m      7\u001b[0m         \u001b[0mdataset\u001b[0m \u001b[0;34m=\u001b[0m \u001b[0mnp\u001b[0m\u001b[0;34m.\u001b[0m\u001b[0mdelete\u001b[0m\u001b[0;34m(\u001b[0m\u001b[0mdataset\u001b[0m\u001b[0;34m,\u001b[0m \u001b[0mnp\u001b[0m\u001b[0;34m.\u001b[0m\u001b[0margmin\u001b[0m\u001b[0;34m(\u001b[0m\u001b[0mdataset\u001b[0m\u001b[0;34m)\u001b[0m\u001b[0;34m)\u001b[0m\u001b[0;34m\u001b[0m\u001b[0m\n",
      "\u001b[0;31mValueError\u001b[0m: min() arg is an empty sequence"
     ]
    }
   ],
   "source": [
    "#learning from the result of auc, i think k value that is below 35 is a good choice for the dataset."
   ]
  }
 ],
 "metadata": {
  "kernelspec": {
   "display_name": "Python 3",
   "language": "python",
   "name": "python3"
  },
  "language_info": {
   "codemirror_mode": {
    "name": "ipython",
    "version": 3
   },
   "file_extension": ".py",
   "mimetype": "text/x-python",
   "name": "python",
   "nbconvert_exporter": "python",
   "pygments_lexer": "ipython3",
   "version": "3.6.3"
  }
 },
 "nbformat": 4,
 "nbformat_minor": 2
}
