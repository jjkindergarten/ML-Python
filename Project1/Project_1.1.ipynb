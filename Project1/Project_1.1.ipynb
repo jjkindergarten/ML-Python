{
 "cells": [
  {
   "cell_type": "code",
   "execution_count": 1,
   "metadata": {},
   "outputs": [],
   "source": [
    "#function for image compression and use the knn method, the output is the sucess rate for identifying the image\n",
    "def image_iden(zero, one, test_ruth, n): \n",
    "    #zero is the train set of zero, one is the train set of one, and n is the principle component\n",
    "    #test_truth record the true mean of the image in test set\n",
    "    ones_svd = list(range(40))\n",
    "    zeros_svd = list(range(40))\n",
    "    \n",
    "    #for SVD compression, ones_svd includes the matrix that has already compressed\n",
    "    for i in range(40):\n",
    "        one_u, one_s, one_d = np.linalg.svd(ones[i])\n",
    "        zero_u, zero_s, zero_d = np.linalg.svd(zeros[i])\n",
    "        compress_zero = np.dot(zero_u[:,:n],np.diag(zero_s)[:n,:n])\n",
    "        compress_zero = np.dot(compress_zero,zero_d[:n,:])\n",
    "        compress_one = np.dot(one_u[:,:n],np.diag(one_s)[:n,:n])\n",
    "        compress_one = np.dot(compress_one,one_d[:n,:])\n",
    "        ones_svd[i] = np.asarray(compress_one)\n",
    "        zeros_svd[i] = np.asarray(compress_zero) \n",
    "        \n",
    "        ones_svd_distances = list(range(20))\n",
    "        zeros_svd_distances = list(range(20))\n",
    "    #value the distance between the compress image and the image in the test set through norm\n",
    "    for i in range(20):\n",
    "        ones_svd_distance = [np.linalg.norm(compress_one - test[i]) for compress_one in ones_svd]\n",
    "        zeros_svd_distance = [np.linalg.norm(compress_zero - test[i]) for compress_zero in zeros_svd]\n",
    "        ones_svd_distances[i] = np.asarray(ones_svd_distance)\n",
    "        zeros_svd_distances[i] = np.asarray(zeros_svd_distance)\n",
    "            \n",
    "    result = []\n",
    "    #cloest neighbor method with k = 1\n",
    "    for m in range(20):\n",
    "        if min(zeros_svd_distances[m]) < min(ones_svd_distances[m]):\n",
    "            result.append(0)\n",
    "        else:\n",
    "            result.append(1)\n",
    "                    \n",
    "    #calcualte the rate that identify the image properly.\n",
    "    count = 0\n",
    "    set = test_truth - result\n",
    "    for m in range(20):\n",
    "        if set[m] != 0:\n",
    "            count = count + 1\n",
    "    \n",
    "    success_rate = 1 - count/20\n",
    "    return success_rate"
   ]
  },
  {
   "cell_type": "code",
   "execution_count": 2,
   "metadata": {
    "collapsed": true
   },
   "outputs": [],
   "source": [
    "from PIL import Image\n",
    "import numpy as np\n",
    "import matplotlib.pyplot as plt"
   ]
  },
  {
   "cell_type": "code",
   "execution_count": 3,
   "metadata": {
    "collapsed": true
   },
   "outputs": [],
   "source": [
    "ones = []\n",
    "zeros = []\n",
    "test = []"
   ]
  },
  {
   "cell_type": "code",
   "execution_count": 4,
   "metadata": {
    "collapsed": true
   },
   "outputs": [],
   "source": [
    "#import image from sets\n",
    "for i in range(40):\n",
    "    one = Image.open(\"training_ones/\"+str(i)+\".png\").convert('L')\n",
    "    zero = Image.open(\"training_zeros/\"+str(i)+\".png\").convert('L')\n",
    "    ones.append(np.asarray(one))\n",
    "    zeros.append(np.asarray(zero))\n",
    "\n",
    "for i in range(20):\n",
    "    t = Image.open(\"test/\"+str(i)+\".png\").convert('L')\n",
    "    test.append(np.asarray(t))\n",
    "\n",
    "test_truth = np.array([0,1,0,0,1,1,1,0,0,1,0,1,0,1,0,1,0,1,0,1])"
   ]
  },
  {
   "cell_type": "code",
   "execution_count": 13,
   "metadata": {},
   "outputs": [],
   "source": [
    "#generate the success rate for each number of principle component\n",
    "success_rate = list(range(99))\n",
    "for i in range(99):\n",
    "    success_rate[i] = image_iden(zeros,ones,test_truth,n=(i+1))"
   ]
  },
  {
   "cell_type": "code",
   "execution_count": 14,
   "metadata": {},
   "outputs": [
    {
     "data": {
      "image/png": "[encoded data removed]",
      "text/plain": [
       "<matplotlib.figure.Figure at 0x10f7b2828>"
      ]
     },
     "metadata": {},
     "output_type": "display_data"
    }
   ],
   "source": [
    "#use plot to show the success rate change varied from the number of principle component\n",
    "plt.plot(range(1,100),success_rate)\n",
    "plt.show()"
   ]
  },
  {
   "cell_type": "code",
   "execution_count": null,
   "metadata": {
    "collapsed": true
   },
   "outputs": [],
   "source": [
    "#As is shown by the plot, the success rate is .95 with only one principle component, and the success rate is .9 with \n",
    "#other number of principle component. So the smallest number for principle component in this situation is 1"
   ]
  },
  {
   "cell_type": "code",
   "execution_count": 71,
   "metadata": {},
   "outputs": [],
   "source": [
    "#hw 1.c\n",
    "#let me first def a method to get the distance for knn\n",
    "def avg_min_distance(dataset, k ):\n",
    "    store_min = []\n",
    "    for i in range(k):\n",
    "        min1 = min(dataset)\n",
    "        store_min.append(min1)\n",
    "        dataset = np.delete(dataset, np.argmin(dataset))\n",
    "    return np.mean(store_min)"
   ]
  },
  {
   "cell_type": "code",
   "execution_count": 74,
   "metadata": {
    "collapsed": true
   },
   "outputs": [],
   "source": [
    "#redef the function image_iden\n",
    "#function for image compression and use the knn method, the output is the sucess rate for identifying the image\n",
    "def image_iden_k(zero, one, test_ruth, n, k): \n",
    "    #zero is the train set of zero, one is the train set of one, and n is the principle component\n",
    "    ones_svd = list(range(40))\n",
    "    zeros_svd = list(range(40))\n",
    "    \n",
    "    #for SVD compression, ones_svd includes the matrix that has already compressed\n",
    "    for i in range(40):\n",
    "        one_u, one_s, one_d = np.linalg.svd(ones[i])\n",
    "        zero_u, zero_s, zero_d = np.linalg.svd(zeros[i])\n",
    "        compress_zero = np.dot(zero_u[:,:n],np.diag(zero_s)[:n,:n])\n",
    "        compress_zero = np.dot(compress_zero,zero_d[:n,:])\n",
    "        compress_one = np.dot(one_u[:,:n],np.diag(one_s)[:n,:n])\n",
    "        compress_one = np.dot(compress_one,one_d[:n,:])\n",
    "        ones_svd[i] = np.asarray(compress_one)\n",
    "        zeros_svd[i] = np.asarray(compress_zero) \n",
    "        \n",
    "        ones_svd_distances = list(range(20))\n",
    "        zeros_svd_distances = list(range(20))\n",
    "    #value the distance between the compress image and the image in the test set through norm\n",
    "    for i in range(20):\n",
    "        ones_svd_distance = [np.linalg.norm(compress_one - test[i]) for compress_one in ones_svd]\n",
    "        zeros_svd_distance = [np.linalg.norm(compress_zero - test[i]) for compress_zero in zeros_svd]\n",
    "        ones_svd_distances[i] = np.asarray(ones_svd_distance)\n",
    "        zeros_svd_distances[i] = np.asarray(zeros_svd_distance)\n",
    "            \n",
    "    result = []\n",
    "    #cloest neighbor method with k \n",
    "    for m in range(20):\n",
    "        if avg_min_distance(zeros_svd_distances[m],k) < avg_min_distance(ones_svd_distances[m],k):\n",
    "            result.append(0)\n",
    "        else:\n",
    "            result.append(1)\n",
    "                    \n",
    "    #calcualte the rate that identify the image properly.\n",
    "    count = 0\n",
    "    set = test_truth - result\n",
    "    for m in range(20):\n",
    "        if set[m] != 0:\n",
    "            count = count + 1\n",
    "    \n",
    "    success_rate = 1 - count/20\n",
    "    return success_rate"
   ]
  },
  {
   "cell_type": "code",
   "execution_count": 80,
   "metadata": {
    "collapsed": true
   },
   "outputs": [],
   "source": [
    "#generate the success rate for each number of principle component with k =2 and k=3 \n",
    "success_rate_2 = list(range(99))\n",
    "for i in range(99):\n",
    "    success_rate_2[i] = image_iden_k(zeros,ones,test_truth,n=(i+1), k =2)\n",
    "\n",
    "success_rate_3 = list(range(99))\n",
    "for i in range(99):\n",
    "    success_rate_3[i] = image_iden_k(zeros,ones,test_truth,n=(i+1), k =3)"
   ]
  },
  {
   "cell_type": "code",
   "execution_count": 85,
   "metadata": {},
   "outputs": [
    {
     "data": {
      "image/png": "[encoded data removed]",
      "text/plain": [
       "<matplotlib.figure.Figure at 0x110989048>"
      ]
     },
     "metadata": {},
     "output_type": "display_data"
    }
   ],
   "source": [
    "plt.plot(range(1,100),success_rate,'b')\n",
    "plt.plot(range(1,100),success_rate_2,'g')\n",
    "plt.plot(range(1,100),success_rate_3,'r')\n",
    "plt.show()"
   ]
  },
  {
   "cell_type": "code",
   "execution_count": null,
   "metadata": {
    "collapsed": true
   },
   "outputs": [],
   "source": [
    "#as is shown by the plot, with k increasing to 2 and 3, the success rate doesn't change. \n",
    "#1.d hence, i would choose to let k = 1 and n = 1 for this problem."
   ]
  }
 ],
 "metadata": {
  "kernelspec": {
   "display_name": "Python 3",
   "language": "python",
   "name": "python3"
  },
  "language_info": {
   "codemirror_mode": {
    "name": "ipython",
    "version": 3
   },
   "file_extension": ".py",
   "mimetype": "text/x-python",
   "name": "python",
   "nbconvert_exporter": "python",
   "pygments_lexer": "ipython3",
   "version": "3.6.3"
  }
 },
 "nbformat": 4,
 "nbformat_minor": 2
}
